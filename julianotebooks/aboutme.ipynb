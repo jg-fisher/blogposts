{
 "cells": [
  {
   "cell_type": "markdown",
   "metadata": {},
   "source": [
    "This blog primarily serves as a mechanism to provide a cohesive formalization of thoughts of mine, and others. Feel free to reach out with comments or questions about anything you read here. The importance of open, objective, and intelligent discussion and debate cannot be understated.\n",
    "\n",
    "Currently the majority of my time is spent consulting for various U.S. government agencies and Fortune 500 companies. The remainder of my time is spent in nature, reading, writing, and exploring the systemic complexity that surrounds us with the unusual effectiveness of mathematics, computation, observation and reason.\n",
    "\n",
    "If anything I write strikes a particular chord, I encourage you to follow me on Twitter at https://www.twitter.com/jgordonfisher or subscribe to my YouTube channel, https://www.youtube.com/JohnGFisher, where I teach the basics of automation and statistical learning, with a focus on neural nets.\n",
    "\n",
    "John G. Fisher\n",
    "jfishersolutions@gmail.com"
   ]
  }
 ],
 "metadata": {
  "kernelspec": {
   "display_name": "Julia 1.0.3 (4 threads)",
   "language": "julia",
   "name": "julia-1.0k"
  },
  "language_info": {
   "file_extension": ".jl",
   "mimetype": "application/julia",
   "name": "julia",
   "version": "1.0.3"
  },
  "latex_envs": {
   "LaTeX_envs_menu_present": true,
   "autoclose": false,
   "autocomplete": true,
   "bibliofile": "biblio.bib",
   "cite_by": "apalike",
   "current_citInitial": 1,
   "eqLabelWithNumbers": true,
   "eqNumInitial": 1,
   "hotkeys": {
    "equation": "Ctrl-E",
    "itemize": "Ctrl-I"
   },
   "labels_anchors": false,
   "latex_user_defs": false,
   "report_style_numbering": false,
   "user_envs_cfg": false
  }
 },
 "nbformat": 4,
 "nbformat_minor": 2
}
